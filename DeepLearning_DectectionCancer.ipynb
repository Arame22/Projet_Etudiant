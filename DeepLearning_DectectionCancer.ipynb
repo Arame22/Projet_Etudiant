{
  "cells": [
    {
      "cell_type": "code",
      "execution_count": null,
      "metadata": {
        "colab": {
          "base_uri": "https://localhost:8080/"
        },
        "id": "NRlU4ec74z6I",
        "outputId": "575014cb-0eb0-4c83-bb8c-6664654d7ba9"
      },
      "outputs": [
        {
          "name": "stdout",
          "output_type": "stream",
          "text": [
            "--2024-01-12 09:54:55--  https://cainvas-static.s3.amazonaws.com/media/user_data/cainvas-admin/CNN_model_dataset.zip\n",
            "Resolving cainvas-static.s3.amazonaws.com (cainvas-static.s3.amazonaws.com)... 16.12.36.111, 52.219.66.40, 16.12.40.79, ...\n",
            "Connecting to cainvas-static.s3.amazonaws.com (cainvas-static.s3.amazonaws.com)|16.12.36.111|:443... connected.\n",
            "HTTP request sent, awaiting response... 200 OK\n",
            "Length: 170317173 (162M) [application/x-zip-compressed]\n",
            "Saving to: ‘CNN_model_dataset.zip’\n",
            "\n",
            "CNN_model_dataset.z  44%[=======>            ]  72.57M  11.8MB/s    eta 10s    "
          ]
        }
      ],
      "source": [
        "!wget -N \"https://cainvas-static.s3.amazonaws.com/media/user_data/cainvas-admin/CNN_model_dataset.zip\"\n",
        "!unzip -qo CNN_model_dataset.zip\n",
        "!rm CNN_model_dataset.zip"
      ]
    },
    {
      "cell_type": "code",
      "execution_count": null,
      "metadata": {
        "id": "34fOWAhH7pTC"
      },
      "outputs": [],
      "source": []
    },
    {
      "cell_type": "markdown",
      "metadata": {
        "id": "4sL-V-RM-u1h"
      },
      "source": [
        "Importer les libraries"
      ]
    },
    {
      "cell_type": "code",
      "execution_count": null,
      "metadata": {
        "id": "38JPvv8S5LB7"
      },
      "outputs": [],
      "source": [
        "import matplotlib.pyplot as plt\n",
        "import cv2\n",
        "import keras\n",
        "import numpy as np\n",
        "import os\n",
        "import seaborn as sns\n",
        "from PIL import Image\n",
        "from sklearn.preprocessing import StandardScaler\n",
        "from sklearn.model_selection import train_test_split, KFold, cross_val_score, GridSearchCV\n",
        "from sklearn.metrics import accuracy_score\n",
        "from keras.models import Sequential\n",
        "from keras.layers import Conv2D, MaxPooling2D, Flatten, Dense, BatchNormalization\n",
        "from sklearn.metrics import classification_report, confusion_matrix"
      ]
    },
    {
      "cell_type": "markdown",
      "metadata": {
        "id": "FqvlaFBG-38D"
      },
      "source": [
        "Exploration des données\n"
      ]
    },
    {
      "cell_type": "code",
      "execution_count": null,
      "metadata": {
        "id": "IBnRQpnO8KRc"
      },
      "outputs": [],
      "source": [
        "from os import path\n",
        "path1 = '/content/data/train/benign/100.jpg'\n",
        "path2 = '/content/data/train/malignant/10.jpg'\n",
        "img1 = cv2.imread(path1)\n",
        "img2 = cv2.imread(path2)"
      ]
    },
    {
      "cell_type": "code",
      "execution_count": null,
      "metadata": {
        "id": "4l63bHAk8JUi"
      },
      "outputs": [],
      "source": [
        "plt.imshow(img1)\n",
        "plt.title(\"Image benign\")\n"
      ]
    },
    {
      "cell_type": "code",
      "execution_count": null,
      "metadata": {
        "id": "mLbOlINw-Xpd"
      },
      "outputs": [],
      "source": [
        "plt.imshow(img2)\n",
        "plt.title(\"Image malign\")"
      ]
    },
    {
      "cell_type": "code",
      "execution_count": null,
      "metadata": {
        "colab": {
          "background_save": true
        },
        "id": "TLdJWzkCDvak"
      },
      "outputs": [],
      "source": [
        "data = \"/content/data\"\n",
        "#data = len(os.listdir(data))\n"
      ]
    },
    {
      "cell_type": "code",
      "execution_count": null,
      "metadata": {
        "colab": {
          "background_save": true
        },
        "id": "lkAfzp_8Gz6N"
      },
      "outputs": [],
      "source": []
    },
    {
      "cell_type": "code",
      "execution_count": null,
      "metadata": {
        "colab": {
          "background_save": true
        },
        "id": "7p0zIpQ1BwJE"
      },
      "outputs": [],
      "source": [
        "benign_train = \"/content/data/train/benign\"\n",
        "malignant_train = \"/content/data/train/malignant\"\n",
        "benign_test = \"/content/data/test/benign\"\n",
        "malignant_test = \"/content/data/test/malignant\""
      ]
    },
    {
      "cell_type": "code",
      "execution_count": null,
      "metadata": {
        "colab": {
          "background_save": true
        },
        "id": "tltYX01UB_ig"
      },
      "outputs": [],
      "source": [
        "nb_benign_train = len(os.listdir(benign_train))\n",
        "nb_malignant_train = len(os.listdir(malignant_train))\n",
        "nb_benign_test = len(os.listdir(benign_test))\n",
        "nb_malignant_test = len(os.listdir(malignant_test))"
      ]
    },
    {
      "cell_type": "code",
      "execution_count": null,
      "metadata": {
        "id": "OeMCyg5JCokN"
      },
      "outputs": [],
      "source": [
        "classes = ['Benignes', 'Malignes']\n",
        "effectifs = [nb_benign_train, nb_malignant_train]\n",
        "\n",
        "plt.bar(classes, effectifs, color=['blue', 'red'])\n",
        "plt.xlabel('Classes')\n",
        "plt.ylabel('Nombre d\\'images')\n",
        "plt.title('Distribution des classes dans l\\'ensemble d\\'entraînement')\n",
        "plt.show()\n"
      ]
    },
    {
      "cell_type": "code",
      "execution_count": null,
      "metadata": {
        "id": "4VRrwqjFFUs_"
      },
      "outputs": [],
      "source": [
        "classes = ['Benignes', 'Malignes']\n",
        "effectifs = [nb_benign_test, nb_malignant_test]\n",
        "\n",
        "plt.bar(classes, effectifs, color=['blue', 'red'])\n",
        "plt.xlabel('Classes')\n",
        "plt.ylabel('Nombre d\\'images')\n",
        "plt.title('Distribution des classes dans l\\'ensemble d\\'entraînement')\n",
        "plt.show()\n"
      ]
    },
    {
      "cell_type": "markdown",
      "metadata": {
        "id": "rPBaMTYax-jI"
      },
      "source": []
    },
    {
      "cell_type": "code",
      "execution_count": null,
      "metadata": {
        "id": "yMyy-E6IwMGS"
      },
      "outputs": [],
      "source": [
        "# Load in training pictures\n",
        "\n",
        "X_benign_train = [np.array(Image.open(os.path.join(benign_train, filename)), dtype='uint8') for filename in os.listdir(benign_train)]\n",
        "\n",
        "X_malign_train = [np.array(Image.open(os.path.join(malignant_train, filename)), dtype='uint8') for filename in os.listdir(malignant_train)]\n",
        "\n"
      ]
    },
    {
      "cell_type": "code",
      "execution_count": null,
      "metadata": {
        "id": "0ob8qz3KHmh2"
      },
      "outputs": [],
      "source": [
        "# Load in test pictures\n",
        "\n",
        "X_benign_test = [np.array(Image.open(os.path.join(benign_test, filename)), dtype='uint8') for filename in os.listdir(benign_test)]\n",
        "\n",
        "X_malign_test = [np.array(Image.open(os.path.join(malignant_test, filename)), dtype='uint8') for filename in os.listdir(malignant_test)]\n",
        "\n"
      ]
    },
    {
      "cell_type": "code",
      "execution_count": null,
      "metadata": {
        "id": "k0RtaF7k0kRT"
      },
      "outputs": [],
      "source": [
        "#label\n",
        "y_benign_train = np.zeros(len(X_benign_train))\n",
        "y_malign_train = np.ones(len(X_malign_train))"
      ]
    },
    {
      "cell_type": "code",
      "execution_count": null,
      "metadata": {
        "id": "aKOviVdL4b3A"
      },
      "outputs": [],
      "source": [
        "y_benign_test = np.zeros(len(X_benign_test))\n",
        "y_malign_test = np.ones(len(X_malign_test))"
      ]
    },
    {
      "cell_type": "code",
      "execution_count": null,
      "metadata": {
        "id": "kK-CB6gaIfnl"
      },
      "outputs": [],
      "source": [
        "# Concaténer les données d'entraînement et de test\n",
        "X_train = np.concatenate([X_benign_train, X_malign_train], axis=0)\n",
        "y_train = np.concatenate([y_benign_train, y_malign_train], axis=0)\n",
        "X_test = np.concatenate([X_benign_test, X_malign_test], axis=0)\n",
        "y_test = np.concatenate([y_benign_test, y_malign_test], axis=0)"
      ]
    },
    {
      "cell_type": "code",
      "execution_count": null,
      "metadata": {
        "id": "uJaPHDM29WK6"
      },
      "outputs": [],
      "source": []
    },
    {
      "cell_type": "code",
      "execution_count": null,
      "metadata": {
        "id": "TTAGFm2rK9Wo"
      },
      "outputs": [],
      "source": [
        "\n",
        "\n",
        "# Initialiser le modèle\n",
        "model = Sequential()\n",
        "\n",
        "# Première couche de convolution avec normalisation\n",
        "model.add(Conv2D(32, (3, 3), activation='relu', input_shape=(224, 224, 3)))\n",
        "model.add(BatchNormalization())\n",
        "model.add(MaxPooling2D((2, 2)))\n",
        "\n",
        "# Deuxième couche de convolution avec normalisation\n",
        "model.add(Conv2D(64, (3, 3), activation='relu'))\n",
        "model.add(BatchNormalization())\n",
        "model.add(MaxPooling2D((2, 2)))\n",
        "\n",
        "# Troisième couche de convolution avec normalisation\n",
        "model.add(Conv2D(128, (3, 3), activation='relu'))\n",
        "model.add(BatchNormalization())\n",
        "model.add(MaxPooling2D((2, 2)))\n",
        "\n",
        "# Couche d'aplatissement pour convertir la sortie en un vecteur\n",
        "model.add(Flatten())\n",
        "\n",
        "# Couches entièrement connectées\n",
        "model.add(Dense(128, activation='relu'))\n",
        "model.add(BatchNormalization())\n",
        "model.add(Dense(1, activation='sigmoid'))  # Couche de sortie pour la classification binaire\n",
        "\n",
        "# Compiler le modèle\n",
        "model.compile(optimizer='adam', loss='binary_crossentropy', metrics=['accuracy'])\n",
        "\n",
        "# Afficher la structure du modèle\n",
        "model.summary()\n"
      ]
    },
    {
      "cell_type": "code",
      "execution_count": null,
      "metadata": {
        "id": "c5I0x1xNsqr_"
      },
      "outputs": [],
      "source": [
        "test_loss, test_accuracy = model.evaluate(X_test, y_test)\n",
        "print(f'Test Loss: {test_loss:.4f}')\n",
        "print(f'Test Accuracy: {test_accuracy:.4f}')\n"
      ]
    },
    {
      "cell_type": "code",
      "execution_count": null,
      "metadata": {
        "id": "h9cDu12--8jo"
      },
      "outputs": [],
      "source": [
        "# Prédire les classes sur l'ensemble de test\n",
        "from sklearn.metrics import classification_report, confusion_matrix\n",
        "y_pred = model.predict(X_test)\n",
        "y_pred_classes = (y_pred > 0.5).astype(int)\n",
        "\n",
        "# Afficher le rapport de classification et la matrice de confusion\n",
        "print(classification_report(y_test, y_pred_classes))\n",
        "print(\"Confusion Matrix:\")\n",
        "print(confusion_matrix(y_test, y_pred_classes))\n"
      ]
    },
    {
      "cell_type": "code",
      "execution_count": null,
      "metadata": {
        "id": "lhWx0YTkBfmd"
      },
      "outputs": [],
      "source": [
        "import matplotlib.pyplot as plt\n",
        "from sklearn.datasets import make_classification\n",
        "from sklearn.metrics import confusion_matrix\n",
        "import seaborn as sns\n",
        "\n",
        "\n",
        "# Calculer la matrice de confusion\n",
        "conf_matrix = confusion_matrix(y_test, y_pred_classes)\n",
        "\n",
        "# Afficher la matrice de confusion avec seaborn (ou matplotlib)\n",
        "plt.figure(figsize=(8, 6))\n",
        "sns.heatmap(conf_matrix, annot=True, fmt='g', cmap='Blues', cbar=False)\n",
        "plt.xlabel('Predicted labels')\n",
        "plt.ylabel('True labels')\n",
        "plt.show()\n"
      ]
    },
    {
      "cell_type": "code",
      "execution_count": null,
      "metadata": {
        "id": "BkmePUk9_Ib8"
      },
      "outputs": [],
      "source": [
        "# prédire  avec de nouvelle données\n",
        "new_image = np.array(Image.open('/content/dummy/30.jpg'), dtype='uint8')\n",
        "new_image = new_image.reshape((1, *new_image.shape))\n",
        "\n",
        "# Prédire la classe de la nouvelle image\n",
        "prediction = model.predict(new_image)\n",
        "if prediction > 0.5:\n",
        "    print(\"La tumeur est maligne.\")\n",
        "else:\n",
        "    print(\"La tumeur est bénigne.\")\n"
      ]
    },
    {
      "cell_type": "code",
      "execution_count": null,
      "metadata": {
        "id": "LNQJUGJo_dCU"
      },
      "outputs": [],
      "source": [
        "Path = '/content/dummy/30.jpg'\n",
        "new_image_30 = cv2.imread(Path)\n",
        "plt.imshow(new_image_30)"
      ]
    }
  ],
  "metadata": {
    "colab": {
      "provenance": [],
      "toc_visible": true
    },
    "kernelspec": {
      "display_name": "Python 3",
      "name": "python3"
    },
    "language_info": {
      "name": "python"
    }
  },
  "nbformat": 4,
  "nbformat_minor": 0
}